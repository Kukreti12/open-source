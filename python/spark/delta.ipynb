{
 "cells": [
  {
   "cell_type": "code",
   "execution_count": 1,
   "id": "f9ea6897-a466-4715-85e1-a44a42fd624c",
   "metadata": {
    "tags": []
   },
   "outputs": [
    {
     "data": {
      "application/vnd.jupyter.widget-view+json": {
       "model_id": "321a6dc8507e48468b196c8b9098234e",
       "version_major": 2,
       "version_minor": 0
      },
      "text/plain": [
       "Tab(children=(ManageSessionWidget(children=(HTML(value='<br/>'), HTML(value='No sessions yet.'))), CreateSessi…"
      ]
     },
     "metadata": {},
     "output_type": "display_data"
    },
    {
     "data": {
      "application/vnd.jupyter.widget-view+json": {
       "model_id": "f3606a66d0034e98a45c1a341c8b1e88",
       "version_major": 2,
       "version_minor": 0
      },
      "text/html": [],
      "text/plain": [
       "MagicsControllerWidget(children=(Tab(children=(ManageSessionWidget(children=(HTML(value='<br/>'), HTML(value='…"
      ]
     },
     "execution_count": 1,
     "metadata": {},
     "output_type": "execute_result"
    }
   ],
   "source": [
    "%reload_ext sparkmagic.magics\n",
    "%manage_spark"
   ]
  },
  {
   "cell_type": "code",
   "execution_count": null,
   "id": "05414c95-9903-474e-bc20-e5e0074e0dc8",
   "metadata": {},
   "outputs": [],
   "source": [
    "## Spark config \n",
    "{\"driverMemory\": \"2000M\", \"executorCores\": 3,\n",
    " \"conf\": {\"spark.ssl.enabled\": false,\"spark.jars\": \"local:///mounts/shared-volume/shared/postgresql-4260.jar\",\"spark.sql.extensions\":\"io.delta.sql.DeltaSparkSessionExtension\",\"spark.sql.catalog.spark_catalog\":\"org.apache.spark.sql.delta.catalog.DeltaCatalog\" ,\"spark.kubernetes.driver.volumes.persistentVolumeClaim.pv1.options.claimName\": \"kubeflow-shared-pvc\", \"spark.kubernetes.driver.volumes.persistentVolumeClaim.pv1.mount.path\": \"/mounts/shared-volume/shared\", \"spark.kubernetes.driver.volumes.persistentVolumeClaim.pv1.mount.readOnly\": false, \"spark.kubernetes.executor.volumes.persistentVolumeClaim.pv1.options.claimName\": \"kubeflow-shared-pvc\", \"spark.kubernetes.executor.volumes.persistentVolumeClaim.pv1.mount.path\": \"/mounts/shared-volume/shared\", \"spark.kubernetes.executor.volumes.persistentVolumeClaim.pv1.mount.readOnly\": false, \"spark.kubernetes.driver.volumes.persistentVolumeClaim.upv1.options.claimName\": \"hpadmin-spark-pvc\", \"spark.kubernetes.driver.volumes.persistentVolumeClaim.upv1.mount.path\": \"/mounts/shared-volume/user\", \"spark.kubernetes.driver.volumes.persistentVolumeClaim.upv1.mount.readOnly\": false, \"spark.kubernetes.executor.volumes.persistentVolumeClaim.upv1.options.claimName\": \"hpadmin-spark-pvc\", \"spark.kubernetes.executor.volumes.persistentVolumeClaim.upv1.mount.path\": \"/mounts/shared-volume/user\", \"spark.kubernetes.executor.volumes.persistentVolumeClaim.upv1.mount.readOnly\": false, \"spark.dynamicAllocation.enabled\": true, \"spark.dynamicAllocation.shuffleTracking.enabled\": true, \"spark.dynamicAllocation.minExecutors\": 1, \"spark.dynamicAllocation.maxExecutors\": 4, \"spark.kubernetes.container.image\": \"gcr.io/mapr-252711/spark-py-3.3.1:v3.3.1\", \"spark.kubernetes.container.image.pullPolicy\": \"Always\", \"spark.hadoop.fs.s3a.connection.ssl.enabled\" : \"false\", \"spark.hadoop.fs.s3a.endpoint\" : \"http://10.10.162.201:9000/\", \"spark.hadoop.fs.s3a.access.key\" : \"minioadmin\",\"spark.hadoop.fs.s3a.secret.key\" : \"minioadmin\",\"spark.hadoop.fs.s3a.impl\": \"org.apache.hadoop.fs.s3a.S3AFileSystem\",\n",
    "\"spark.driver.extraJavaOptions\": \"-Dcom.amazonaws.sdk.disableCertChecking=true\",\"spark.executor.extraJavaOptions\": \"-Dcom.amazonaws.sdk.disableCertChecking=false\"}}\n"
   ]
  },
  {
   "cell_type": "code",
   "execution_count": 16,
   "id": "a6da04a3-6463-4ccd-815d-4a19a8868250",
   "metadata": {
    "tags": []
   },
   "outputs": [
    {
     "data": {
      "application/vnd.jupyter.widget-view+json": {
       "model_id": "",
       "version_major": 2,
       "version_minor": 0
      },
      "text/plain": [
       "FloatProgress(value=0.0, bar_style='info', description='Progress:', layout=Layout(height='25px', width='50%'),…"
      ]
     },
     "metadata": {},
     "output_type": "display_data"
    }
   ],
   "source": [
    "## Livy credentials\n",
    "#http://livy-0.livy-svc.spark.svc.cluster.local:8998\n",
    "#username- hpadmin\n",
    "#password- HP1nvent!\n",
    "\n",
    "from pyspark.sql.functions import *\n",
    "from delta.tables import *\n",
    "from pyspark.sql import SparkSession"
   ]
  },
  {
   "cell_type": "markdown",
   "id": "91a15779-ef99-455b-baf9-079fff5975ec",
   "metadata": {
    "tags": []
   },
   "source": [
    "## Read the raw parquet file of yellow taxi year 2021"
   ]
  },
  {
   "cell_type": "code",
   "execution_count": 32,
   "id": "fbfdda83-e0b6-49c3-bba1-17e881dbd256",
   "metadata": {},
   "outputs": [
    {
     "data": {
      "application/vnd.jupyter.widget-view+json": {
       "model_id": "",
       "version_major": 2,
       "version_minor": 0
      },
      "text/plain": [
       "FloatProgress(value=0.0, bar_style='info', description='Progress:', layout=Layout(height='25px', width='50%'),…"
      ]
     },
     "metadata": {},
     "output_type": "display_data"
    }
   ],
   "source": [
    "df_yellow_2021=spark.read.parquet('file:///mounts/shared-volume/shared/dfm/silver/yellow/yellow_tripdata_2021-01.parquet')"
   ]
  },
  {
   "cell_type": "code",
   "execution_count": 33,
   "id": "98462e37-7a44-49f0-bf48-f97c4ac6478d",
   "metadata": {
    "tags": []
   },
   "outputs": [
    {
     "data": {
      "application/vnd.jupyter.widget-view+json": {
       "model_id": "",
       "version_major": 2,
       "version_minor": 0
      },
      "text/plain": [
       "FloatProgress(value=0.0, bar_style='info', description='Progress:', layout=Layout(height='25px', width='50%'),…"
      ]
     },
     "metadata": {},
     "output_type": "display_data"
    },
    {
     "name": "stdout",
     "output_type": "stream",
     "text": [
      "root\n",
      " |-- VendorID: long (nullable = true)\n",
      " |-- tpep_pickup_datetime: timestamp (nullable = true)\n",
      " |-- tpep_dropoff_datetime: timestamp (nullable = true)\n",
      " |-- passenger_count: double (nullable = true)\n",
      " |-- trip_distance: double (nullable = true)\n",
      " |-- RatecodeID: double (nullable = true)\n",
      " |-- store_and_fwd_flag: string (nullable = true)\n",
      " |-- PULocationID: long (nullable = true)\n",
      " |-- DOLocationID: long (nullable = true)\n",
      " |-- payment_type: long (nullable = true)\n",
      " |-- fare_amount: double (nullable = true)\n",
      " |-- extra: double (nullable = true)\n",
      " |-- mta_tax: double (nullable = true)\n",
      " |-- tip_amount: double (nullable = true)\n",
      " |-- tolls_amount: double (nullable = true)\n",
      " |-- improvement_surcharge: double (nullable = true)\n",
      " |-- total_amount: double (nullable = true)\n",
      " |-- congestion_surcharge: double (nullable = true)\n",
      " |-- airport_fee: double (nullable = true)"
     ]
    }
   ],
   "source": [
    "df_yellow_2021.printSchema()"
   ]
  },
  {
   "cell_type": "markdown",
   "id": "1956449c-bdda-4b35-9669-dfd97c3ef692",
   "metadata": {
    "tags": []
   },
   "source": [
    "## Identify the tip amount which is greater than $1000 "
   ]
  },
  {
   "cell_type": "code",
   "execution_count": null,
   "id": "05e4cf38-81bc-4d10-a218-6d0bdde9bcff",
   "metadata": {
    "tags": []
   },
   "outputs": [],
   "source": [
    "##get the subset of the dataframe. Fist create the view from dataframe\n",
    "df_yellow_2021.createOrReplaceTempView(\"df_yellow_2021_view\")\n",
    "query = \"SELECT * FROM df_yellow_2021_view WHERE tip_amount >1000\""
   ]
  },
  {
   "cell_type": "code",
   "execution_count": null,
   "id": "cb631784-592e-4791-bc13-5992fce9f120",
   "metadata": {
    "tags": []
   },
   "outputs": [],
   "source": [
    "sub_set=spark.sql(query)"
   ]
  },
  {
   "cell_type": "code",
   "execution_count": null,
   "id": "d0f706d3-2915-40b6-a40b-7d67c4ea9db4",
   "metadata": {
    "tags": []
   },
   "outputs": [],
   "source": [
    "sub_set.select('tip_amount').show()"
   ]
  },
  {
   "cell_type": "markdown",
   "id": "9eb8dd1f-9dfd-4bc8-8bb1-8ee56fb59ad4",
   "metadata": {
    "tags": []
   },
   "source": [
    "## Write a table in delta lake format"
   ]
  },
  {
   "cell_type": "code",
   "execution_count": 34,
   "id": "b04f04dc-1ced-4e27-8f79-fe790f315ff6",
   "metadata": {
    "tags": []
   },
   "outputs": [
    {
     "data": {
      "application/vnd.jupyter.widget-view+json": {
       "model_id": "",
       "version_major": 2,
       "version_minor": 0
      },
      "text/plain": [
       "FloatProgress(value=0.0, bar_style='info', description='Progress:', layout=Layout(height='25px', width='50%'),…"
      ]
     },
     "metadata": {},
     "output_type": "display_data"
    }
   ],
   "source": [
    "df_yellow_2021.write.format(\"delta\").save(\"file:///mounts/shared-volume/shared/dfm/silver/yellow/delta\")"
   ]
  },
  {
   "cell_type": "markdown",
   "id": "00106e3d-492b-4d11-ab94-ab247c35bba7",
   "metadata": {
    "tags": []
   },
   "source": [
    "## Read data from delta lake tables"
   ]
  },
  {
   "cell_type": "code",
   "execution_count": 35,
   "id": "2971c7dd-b68e-4f8e-99cb-8b043288e6e6",
   "metadata": {
    "tags": []
   },
   "outputs": [
    {
     "data": {
      "application/vnd.jupyter.widget-view+json": {
       "model_id": "",
       "version_major": 2,
       "version_minor": 0
      },
      "text/plain": [
       "FloatProgress(value=0.0, bar_style='info', description='Progress:', layout=Layout(height='25px', width='50%'),…"
      ]
     },
     "metadata": {},
     "output_type": "display_data"
    },
    {
     "name": "stdout",
     "output_type": "stream",
     "text": [
      "+--------+--------------------+---------------------+---------------+-------------+----------+------------------+------------+------------+------------+-----------+-----+-------+----------+------------+---------------------+------------+--------------------+-----------+\n",
      "|VendorID|tpep_pickup_datetime|tpep_dropoff_datetime|passenger_count|trip_distance|RatecodeID|store_and_fwd_flag|PULocationID|DOLocationID|payment_type|fare_amount|extra|mta_tax|tip_amount|tolls_amount|improvement_surcharge|total_amount|congestion_surcharge|airport_fee|\n",
      "+--------+--------------------+---------------------+---------------+-------------+----------+------------------+------------+------------+------------+-----------+-----+-------+----------+------------+---------------------+------------+--------------------+-----------+\n",
      "|       1| 2021-01-01 00:30:10|  2021-01-01 00:36:12|            1.0|          2.1|       1.0|                 N|         142|          43|           2|        8.0|  3.0|    0.5|       0.0|         0.0|                  0.3|        11.8|                 2.5|       null|\n",
      "|       1| 2021-01-01 00:51:20|  2021-01-01 00:52:19|            1.0|          0.2|       1.0|                 N|         238|         151|           2|        3.0|  0.5|    0.5|       0.0|         0.0|                  0.3|         4.3|                 0.0|       null|\n",
      "|       1| 2021-01-01 00:43:30|  2021-01-01 01:11:06|            1.0|         14.7|       1.0|                 N|         132|         165|           1|       42.0|  0.5|    0.5|      8.65|         0.0|                  0.3|       51.95|                 0.0|       null|\n",
      "|       1| 2021-01-01 00:15:48|  2021-01-01 00:31:01|            0.0|         10.6|       1.0|                 N|         138|         132|           1|       29.0|  0.5|    0.5|      6.05|         0.0|                  0.3|       36.35|                 0.0|       null|\n",
      "|       2| 2021-01-01 00:31:49|  2021-01-01 00:48:21|            1.0|         4.94|       1.0|                 N|          68|          33|           1|       16.5|  0.5|    0.5|      4.06|         0.0|                  0.3|       24.36|                 2.5|       null|\n",
      "|       1| 2021-01-01 00:16:29|  2021-01-01 00:24:30|            1.0|          1.6|       1.0|                 N|         224|          68|           1|        8.0|  3.0|    0.5|      2.35|         0.0|                  0.3|       14.15|                 2.5|       null|\n",
      "|       1| 2021-01-01 00:00:28|  2021-01-01 00:17:28|            1.0|          4.1|       1.0|                 N|          95|         157|           2|       16.0|  0.5|    0.5|       0.0|         0.0|                  0.3|        17.3|                 0.0|       null|\n",
      "|       1| 2021-01-01 00:12:29|  2021-01-01 00:30:34|            1.0|          5.7|       1.0|                 N|          90|          40|           2|       18.0|  3.0|    0.5|       0.0|         0.0|                  0.3|        21.8|                 2.5|       null|\n",
      "|       1| 2021-01-01 00:39:16|  2021-01-01 01:00:13|            1.0|          9.1|       1.0|                 N|          97|         129|           4|       27.5|  0.5|    0.5|       0.0|         0.0|                  0.3|        28.8|                 0.0|       null|\n",
      "|       1| 2021-01-01 00:26:12|  2021-01-01 00:39:46|            2.0|          2.7|       1.0|                 N|         263|         142|           1|       12.0|  3.0|    0.5|      3.15|         0.0|                  0.3|       18.95|                 2.5|       null|\n",
      "|       2| 2021-01-01 00:15:52|  2021-01-01 00:38:07|            3.0|         6.11|       1.0|                 N|         164|         255|           1|       20.5|  0.5|    0.5|       0.0|         0.0|                  0.3|        24.3|                 2.5|       null|\n",
      "|       2| 2021-01-01 00:46:36|  2021-01-01 00:53:45|            2.0|         1.21|       1.0|                 N|         255|          80|           1|        7.0|  0.5|    0.5|      2.49|         0.0|                  0.3|       10.79|                 0.0|       null|\n",
      "|       1| 2021-01-01 00:10:46|  2021-01-01 00:32:58|            2.0|          7.4|       1.0|                 N|         138|         166|           2|       24.5|  2.5|    0.5|       0.0|        6.12|                  0.3|       33.92|                 0.0|       null|\n",
      "|       2| 2021-01-01 00:31:06|  2021-01-01 00:38:52|            5.0|          1.7|       1.0|                 N|         142|          50|           1|        8.0|  0.5|    0.5|      2.36|         0.0|                  0.3|       14.16|                 2.5|       null|\n",
      "|       2| 2021-01-01 00:42:11|  2021-01-01 00:44:24|            5.0|         0.81|       1.0|                 N|          50|         142|           2|        4.5|  0.5|    0.5|       0.0|         0.0|                  0.3|         8.3|                 2.5|       null|\n",
      "|       2| 2021-01-01 00:17:48|  2021-01-01 00:21:55|            1.0|         1.01|       1.0|                 N|         236|         237|           1|        5.5|  0.5|    0.5|       1.0|         0.0|                  0.3|        10.3|                 2.5|       null|\n",
      "|       2| 2021-01-01 00:33:38|  2021-01-01 00:38:37|            1.0|         0.73|       1.0|                 N|         142|         239|           1|        5.5|  0.5|    0.5|      2.79|         0.0|                  0.3|       12.09|                 2.5|       null|\n",
      "|       2| 2021-01-01 00:47:56|  2021-01-01 00:52:53|            1.0|         1.17|       1.0|                 N|         238|         166|           1|        6.5|  0.5|    0.5|      2.06|         0.0|                  0.3|       12.36|                 2.5|       null|\n",
      "|       2| 2021-01-01 00:04:21|  2021-01-01 00:07:58|            1.0|         0.78|       1.0|                 N|         239|         238|           1|        4.5|  0.5|    0.5|      1.66|         0.0|                  0.3|        9.96|                 2.5|       null|\n",
      "|       2| 2021-01-01 00:18:36|  2021-01-01 00:27:10|            2.0|         1.66|       1.0|                 N|         151|         142|           2|        8.5|  0.5|    0.5|       0.0|         0.0|                  0.3|        12.3|                 2.5|       null|\n",
      "+--------+--------------------+---------------------+---------------+-------------+----------+------------------+------------+------------+------------+-----------+-----+-------+----------+------------+---------------------+------------+--------------------+-----------+\n",
      "only showing top 20 rows"
     ]
    }
   ],
   "source": [
    "## Read data from delta lake tables\n",
    "df_yellow_2021_delta = spark.read.format(\"delta\").load(\"file:///mounts/shared-volume/shared/dfm/silver/yellow/delta\")\n",
    "df_yellow_2021_delta.show()"
   ]
  },
  {
   "cell_type": "markdown",
   "id": "4745f36d-4336-4eed-909a-a6152b6e2a77",
   "metadata": {
    "tags": []
   },
   "source": [
    "## update table data"
   ]
  },
  {
   "cell_type": "markdown",
   "id": "3040164b-279c-4a97-8d49-54d4321cae2d",
   "metadata": {
    "tags": []
   },
   "source": [
    "### Overwrite"
   ]
  },
  {
   "cell_type": "code",
   "execution_count": 36,
   "id": "d2b6753b-2cb2-4de2-8dd4-aeccf3752935",
   "metadata": {
    "tags": []
   },
   "outputs": [
    {
     "data": {
      "application/vnd.jupyter.widget-view+json": {
       "model_id": "",
       "version_major": 2,
       "version_minor": 0
      },
      "text/plain": [
       "FloatProgress(value=0.0, bar_style='info', description='Progress:', layout=Layout(height='25px', width='50%'),…"
      ]
     },
     "metadata": {},
     "output_type": "display_data"
    }
   ],
   "source": [
    "## read the parquet format of year 2020 (yellow taxi)\n",
    "df_yellow_2020=spark.read.parquet('file:///mounts/shared-volume/shared/dfm/bronze/yellow/yellow_tripdata_2020-01.parquet')"
   ]
  },
  {
   "cell_type": "code",
   "execution_count": 37,
   "id": "080ef7b9-7b96-432a-94f6-597d3d3c8f0e",
   "metadata": {
    "tags": []
   },
   "outputs": [
    {
     "data": {
      "application/vnd.jupyter.widget-view+json": {
       "model_id": "",
       "version_major": 2,
       "version_minor": 0
      },
      "text/plain": [
       "FloatProgress(value=0.0, bar_style='info', description='Progress:', layout=Layout(height='25px', width='50%'),…"
      ]
     },
     "metadata": {},
     "output_type": "display_data"
    }
   ],
   "source": [
    "## transform the type of airport fee column to the double\n",
    "df_yellow_2020=df_yellow_2020.withColumn(\"airport_fee\",col(\"airport_fee\").cast(\"double\"))"
   ]
  },
  {
   "cell_type": "code",
   "execution_count": 38,
   "id": "e8d981cf-0dc1-4cef-98bd-1c666c3e84ac",
   "metadata": {
    "tags": []
   },
   "outputs": [
    {
     "data": {
      "application/vnd.jupyter.widget-view+json": {
       "model_id": "",
       "version_major": 2,
       "version_minor": 0
      },
      "text/plain": [
       "FloatProgress(value=0.0, bar_style='info', description='Progress:', layout=Layout(height='25px', width='50%'),…"
      ]
     },
     "metadata": {},
     "output_type": "display_data"
    }
   ],
   "source": [
    "df_yellow_2020.write.format(\"delta\").mode(\"overwrite\").save(\"file:///mounts/shared-volume/shared/dfm/silver/yellow/delta\")"
   ]
  },
  {
   "cell_type": "markdown",
   "id": "e07f5eac-9947-4fa1-af89-4a27dc2aba5c",
   "metadata": {
    "tags": []
   },
   "source": [
    "### Conditional overwrite merge aand update"
   ]
  },
  {
   "cell_type": "code",
   "execution_count": 39,
   "id": "e3bb6156-f005-43d0-9485-6d1855cf89b8",
   "metadata": {
    "tags": []
   },
   "outputs": [
    {
     "data": {
      "application/vnd.jupyter.widget-view+json": {
       "model_id": "",
       "version_major": 2,
       "version_minor": 0
      },
      "text/plain": [
       "FloatProgress(value=0.0, bar_style='info', description='Progress:', layout=Layout(height='25px', width='50%'),…"
      ]
     },
     "metadata": {},
     "output_type": "display_data"
    }
   ],
   "source": [
    "deltaTable = DeltaTable.forPath(spark, \"file:///mounts/shared-volume/shared/dfm/silver/yellow/delta\")\n",
    "\n",
    "# Update every even value by adding 100 to it\n",
    "deltaTable.update(\n",
    "  condition = expr(\"tip_amount == 1100\"),\n",
    "  set = { \"tip_amount\": expr(\"tip_amount - 100\") })\n"
   ]
  },
  {
   "cell_type": "code",
   "execution_count": null,
   "id": "dd806733-9d95-48cb-b0e3-b2eea9191e3c",
   "metadata": {
    "tags": []
   },
   "outputs": [],
   "source": [
    "deltaTable.show()"
   ]
  },
  {
   "cell_type": "code",
   "execution_count": 40,
   "id": "77f1420a-86e3-49f0-8228-a019aa7e2f32",
   "metadata": {
    "tags": []
   },
   "outputs": [
    {
     "data": {
      "application/vnd.jupyter.widget-view+json": {
       "model_id": "",
       "version_major": 2,
       "version_minor": 0
      },
      "text/plain": [
       "FloatProgress(value=0.0, bar_style='info', description='Progress:', layout=Layout(height='25px', width='50%'),…"
      ]
     },
     "metadata": {},
     "output_type": "display_data"
    }
   ],
   "source": [
    "## Read the updated data\n",
    "df_yellow_2021_update = spark.read.format(\"delta\").load(\"file:///mounts/shared-volume/shared/dfm/silver/yellow/delta\")\n",
    "df_yellow_2021_update.createOrReplaceTempView(\"df_yellow_2021_update_view\")"
   ]
  },
  {
   "cell_type": "code",
   "execution_count": 41,
   "id": "9c709e32-896a-46aa-8461-264efe2cbde6",
   "metadata": {
    "tags": []
   },
   "outputs": [
    {
     "data": {
      "application/vnd.jupyter.widget-view+json": {
       "model_id": "",
       "version_major": 2,
       "version_minor": 0
      },
      "text/plain": [
       "FloatProgress(value=0.0, bar_style='info', description='Progress:', layout=Layout(height='25px', width='50%'),…"
      ]
     },
     "metadata": {},
     "output_type": "display_data"
    },
    {
     "name": "stdout",
     "output_type": "stream",
     "text": [
      "root\n",
      " |-- VendorID: long (nullable = true)\n",
      " |-- tpep_pickup_datetime: timestamp (nullable = true)\n",
      " |-- tpep_dropoff_datetime: timestamp (nullable = true)\n",
      " |-- passenger_count: double (nullable = true)\n",
      " |-- trip_distance: double (nullable = true)\n",
      " |-- RatecodeID: double (nullable = true)\n",
      " |-- store_and_fwd_flag: string (nullable = true)\n",
      " |-- PULocationID: long (nullable = true)\n",
      " |-- DOLocationID: long (nullable = true)\n",
      " |-- payment_type: long (nullable = true)\n",
      " |-- fare_amount: double (nullable = true)\n",
      " |-- extra: double (nullable = true)\n",
      " |-- mta_tax: double (nullable = true)\n",
      " |-- tip_amount: double (nullable = true)\n",
      " |-- tolls_amount: double (nullable = true)\n",
      " |-- improvement_surcharge: double (nullable = true)\n",
      " |-- total_amount: double (nullable = true)\n",
      " |-- congestion_surcharge: double (nullable = true)\n",
      " |-- airport_fee: double (nullable = true)"
     ]
    }
   ],
   "source": [
    "df_yellow_2021_update.printSchema()"
   ]
  },
  {
   "cell_type": "code",
   "execution_count": 42,
   "id": "deaaaf13-e3cd-4f68-8787-c0d0b04076fb",
   "metadata": {
    "tags": []
   },
   "outputs": [
    {
     "data": {
      "application/vnd.jupyter.widget-view+json": {
       "model_id": "",
       "version_major": 2,
       "version_minor": 0
      },
      "text/plain": [
       "FloatProgress(value=0.0, bar_style='info', description='Progress:', layout=Layout(height='25px', width='50%'),…"
      ]
     },
     "metadata": {},
     "output_type": "display_data"
    }
   ],
   "source": [
    "query = \"SELECT * FROM df_yellow_2021_update_view WHERE tip_amount > 900\"\n",
    "sub_set=spark.sql(query)"
   ]
  },
  {
   "cell_type": "code",
   "execution_count": 43,
   "id": "82870aea-82bc-4047-9b36-c4eda3a7e65a",
   "metadata": {
    "tags": []
   },
   "outputs": [
    {
     "data": {
      "application/vnd.jupyter.widget-view+json": {
       "model_id": "",
       "version_major": 2,
       "version_minor": 0
      },
      "text/plain": [
       "FloatProgress(value=0.0, bar_style='info', description='Progress:', layout=Layout(height='25px', width='50%'),…"
      ]
     },
     "metadata": {},
     "output_type": "display_data"
    },
    {
     "name": "stdout",
     "output_type": "stream",
     "text": [
      "+--------+--------------------+---------------------+---------------+-------------+----------+------------------+------------+------------+------------+-----------+-----+-------+----------+------------+---------------------+------------+--------------------+-----------+\n",
      "|VendorID|tpep_pickup_datetime|tpep_dropoff_datetime|passenger_count|trip_distance|RatecodeID|store_and_fwd_flag|PULocationID|DOLocationID|payment_type|fare_amount|extra|mta_tax|tip_amount|tolls_amount|improvement_surcharge|total_amount|congestion_surcharge|airport_fee|\n",
      "+--------+--------------------+---------------------+---------------+-------------+----------+------------------+------------+------------+------------+-----------+-----+-------+----------+------------+---------------------+------------+--------------------+-----------+\n",
      "|       2| 2020-01-22 16:41:24|  2020-01-22 16:49:28|            1.0|         0.55|       1.0|                 N|         231|         209|           1|        6.5|  1.0|    0.5|    1000.0|         0.0|                  0.3|      1110.8|                 2.5|       null|\n",
      "+--------+--------------------+---------------------+---------------+-------------+----------+------------------+------------+------------+------------+-----------+-----+-------+----------+------------+---------------------+------------+--------------------+-----------+"
     ]
    }
   ],
   "source": [
    "sub_set.show()"
   ]
  },
  {
   "cell_type": "code",
   "execution_count": 15,
   "id": "5fe243cc-5c55-4a8d-98a9-cb2a2b97aa32",
   "metadata": {
    "tags": []
   },
   "outputs": [
    {
     "data": {
      "application/vnd.jupyter.widget-view+json": {
       "model_id": "",
       "version_major": 2,
       "version_minor": 0
      },
      "text/plain": [
       "FloatProgress(value=0.0, bar_style='info', description='Progress:', layout=Layout(height='25px', width='50%'),…"
      ]
     },
     "metadata": {},
     "output_type": "display_data"
    },
    {
     "name": "stdout",
     "output_type": "stream",
     "text": [
      "+------------+\n",
      "|total_amount|\n",
      "+------------+\n",
      "|      1110.8|\n",
      "+------------+"
     ]
    }
   ],
   "source": [
    "sub_set.select('total_amount').show()"
   ]
  },
  {
   "cell_type": "code",
   "execution_count": 44,
   "id": "f70a0207-f2e0-4fbf-908e-d9e90833548f",
   "metadata": {
    "tags": []
   },
   "outputs": [
    {
     "data": {
      "application/vnd.jupyter.widget-view+json": {
       "model_id": "",
       "version_major": 2,
       "version_minor": 0
      },
      "text/plain": [
       "FloatProgress(value=0.0, bar_style='info', description='Progress:', layout=Layout(height='25px', width='50%'),…"
      ]
     },
     "metadata": {},
     "output_type": "display_data"
    }
   ],
   "source": [
    "from pyspark.sql.functions import col\n",
    "# Define the condition for updating the column\n",
    "condition = col(\"tip_amount\") == 1000\n",
    "\n",
    "# Define the new value you want to update the column with\n",
    "new_value = 1\n",
    "\n",
    "# Update the column using withColumn()\n",
    "updated_df = sub_set.withColumn(\"VendorID\", when(condition, new_value).otherwise(col(\"VendorID\")))\n"
   ]
  },
  {
   "cell_type": "code",
   "execution_count": 45,
   "id": "4ab0052e-7445-47b1-a123-963fcbda8671",
   "metadata": {
    "tags": []
   },
   "outputs": [
    {
     "data": {
      "application/vnd.jupyter.widget-view+json": {
       "model_id": "",
       "version_major": 2,
       "version_minor": 0
      },
      "text/plain": [
       "FloatProgress(value=0.0, bar_style='info', description='Progress:', layout=Layout(height='25px', width='50%'),…"
      ]
     },
     "metadata": {},
     "output_type": "display_data"
    },
    {
     "name": "stdout",
     "output_type": "stream",
     "text": [
      "+--------+--------------------+---------------------+---------------+-------------+----------+------------------+------------+------------+------------+-----------+-----+-------+----------+------------+---------------------+------------+--------------------+-----------+\n",
      "|VendorID|tpep_pickup_datetime|tpep_dropoff_datetime|passenger_count|trip_distance|RatecodeID|store_and_fwd_flag|PULocationID|DOLocationID|payment_type|fare_amount|extra|mta_tax|tip_amount|tolls_amount|improvement_surcharge|total_amount|congestion_surcharge|airport_fee|\n",
      "+--------+--------------------+---------------------+---------------+-------------+----------+------------------+------------+------------+------------+-----------+-----+-------+----------+------------+---------------------+------------+--------------------+-----------+\n",
      "|       1| 2020-01-22 16:41:24|  2020-01-22 16:49:28|            1.0|         0.55|       1.0|                 N|         231|         209|           1|        6.5|  1.0|    0.5|    1000.0|         0.0|                  0.3|      1110.8|                 2.5|       null|\n",
      "+--------+--------------------+---------------------+---------------+-------------+----------+------------------+------------+------------+------------+-----------+-----+-------+----------+------------+---------------------+------------+--------------------+-----------+"
     ]
    }
   ],
   "source": [
    "updated_df.show()"
   ]
  },
  {
   "cell_type": "code",
   "execution_count": 46,
   "id": "90aae829-5ad8-487d-a80b-e71584d05a8c",
   "metadata": {
    "tags": []
   },
   "outputs": [
    {
     "data": {
      "application/vnd.jupyter.widget-view+json": {
       "model_id": "",
       "version_major": 2,
       "version_minor": 0
      },
      "text/plain": [
       "FloatProgress(value=0.0, bar_style='info', description='Progress:', layout=Layout(height='25px', width='50%'),…"
      ]
     },
     "metadata": {},
     "output_type": "display_data"
    }
   ],
   "source": [
    "deltaTable.alias(\"oldData\") \\\n",
    "  .merge(\n",
    "    updated_df.alias(\"newData\"),\n",
    "    \"oldData.tip_amount = newData.tip_amount\") \\\n",
    "  .whenMatchedUpdate(set = { \"VendorID\": col(\"newData.VendorID\") }) \\\n",
    "  .whenNotMatchedInsert(values = { \"VendorID\": col(\"newData.VendorID\") }) \\\n",
    "  .execute()\n"
   ]
  },
  {
   "cell_type": "markdown",
   "id": "50871aaf-07ae-45c7-a036-4f3894c64d13",
   "metadata": {
    "tags": []
   },
   "source": [
    "## History"
   ]
  },
  {
   "cell_type": "code",
   "execution_count": 47,
   "id": "6d974bd5-2312-4709-ae15-060d74afe0e8",
   "metadata": {
    "tags": []
   },
   "outputs": [
    {
     "data": {
      "application/vnd.jupyter.widget-view+json": {
       "model_id": "",
       "version_major": 2,
       "version_minor": 0
      },
      "text/plain": [
       "FloatProgress(value=0.0, bar_style='info', description='Progress:', layout=Layout(height='25px', width='50%'),…"
      ]
     },
     "metadata": {},
     "output_type": "display_data"
    }
   ],
   "source": [
    "fullHistoryDF = deltaTable.history() "
   ]
  },
  {
   "cell_type": "code",
   "execution_count": 48,
   "id": "0847321b-53a3-41d2-9557-3aff3943d75a",
   "metadata": {
    "tags": []
   },
   "outputs": [
    {
     "data": {
      "application/vnd.jupyter.widget-view+json": {
       "model_id": "",
       "version_major": 2,
       "version_minor": 0
      },
      "text/plain": [
       "FloatProgress(value=0.0, bar_style='info', description='Progress:', layout=Layout(height='25px', width='50%'),…"
      ]
     },
     "metadata": {},
     "output_type": "display_data"
    },
    {
     "name": "stdout",
     "output_type": "stream",
     "text": [
      "+-----------------------+---------+-------+\n",
      "|timestamp              |operation|version|\n",
      "+-----------------------+---------+-------+\n",
      "|2023-07-10 14:35:43.989|MERGE    |3      |\n",
      "|2023-07-10 14:33:16.29 |UPDATE   |2      |\n",
      "|2023-07-10 14:32:36.472|WRITE    |1      |\n",
      "|2023-07-10 14:31:08.364|WRITE    |0      |\n",
      "+-----------------------+---------+-------+"
     ]
    }
   ],
   "source": [
    "fullHistoryDF.select(col(\"timestamp\"),col(\"operation\"),col(\"version\")).show(truncate=False)"
   ]
  },
  {
   "cell_type": "markdown",
   "id": "3c04d8a1-2075-49a2-b4ee-a233d86a2c06",
   "metadata": {
    "tags": []
   },
   "source": [
    "## Detail"
   ]
  },
  {
   "cell_type": "code",
   "execution_count": 49,
   "id": "fb5cfcf3-96b2-4193-90fc-e1eeb7b0062b",
   "metadata": {
    "tags": []
   },
   "outputs": [
    {
     "data": {
      "application/vnd.jupyter.widget-view+json": {
       "model_id": "",
       "version_major": 2,
       "version_minor": 0
      },
      "text/plain": [
       "FloatProgress(value=0.0, bar_style='info', description='Progress:', layout=Layout(height='25px', width='50%'),…"
      ]
     },
     "metadata": {},
     "output_type": "display_data"
    }
   ],
   "source": [
    "detailDF = deltaTable.detail()"
   ]
  },
  {
   "cell_type": "code",
   "execution_count": 50,
   "id": "417b00c4-5181-4b44-866b-6b1fbb9879bb",
   "metadata": {
    "tags": []
   },
   "outputs": [
    {
     "data": {
      "application/vnd.jupyter.widget-view+json": {
       "model_id": "",
       "version_major": 2,
       "version_minor": 0
      },
      "text/plain": [
       "FloatProgress(value=0.0, bar_style='info', description='Progress:', layout=Layout(height='25px', width='50%'),…"
      ]
     },
     "metadata": {},
     "output_type": "display_data"
    },
    {
     "name": "stdout",
     "output_type": "stream",
     "text": [
      "+------+------------------------------------+----+-----------+---------------------------------------------------------+-----------------------+-----------------------+----------------+--------+-----------+----------+----------------+----------------+\n",
      "|format|id                                  |name|description|location                                                 |createdAt              |lastModified           |partitionColumns|numFiles|sizeInBytes|properties|minReaderVersion|minWriterVersion|\n",
      "+------+------------------------------------+----+-----------+---------------------------------------------------------+-----------------------+-----------------------+----------------+--------+-----------+----------+----------------+----------------+\n",
      "|delta |9830b4bc-8ff6-4ae6-9821-a3eef3b3aa35|null|null       |file:/mounts/shared-volume/shared/dfm/silver/yellow/delta|2023-07-10 14:31:02.659|2023-07-10 14:35:43.989|[]              |5       |129122380  |{}        |1               |2               |\n",
      "+------+------------------------------------+----+-----------+---------------------------------------------------------+-----------------------+-----------------------+----------------+--------+-----------+----------+----------------+----------------+"
     ]
    }
   ],
   "source": [
    "detailDF.show(truncate=False)"
   ]
  },
  {
   "cell_type": "code",
   "execution_count": 31,
   "id": "9c3f51f3-e169-4e72-80a4-304ba0a5b792",
   "metadata": {
    "tags": []
   },
   "outputs": [
    {
     "data": {
      "application/vnd.jupyter.widget-view+json": {
       "model_id": "",
       "version_major": 2,
       "version_minor": 0
      },
      "text/plain": [
       "FloatProgress(value=0.0, bar_style='info', description='Progress:', layout=Layout(height='25px', width='50%'),…"
      ]
     },
     "metadata": {},
     "output_type": "display_data"
    }
   ],
   "source": [
    "## Save final dataframe to the postgres\n",
    "# Assuming you have a DataFrame called \"df\" and want to save it to a PostgreSQL table\n",
    "\n",
    "# Define the connection properties\n",
    "jdbc_url = \"jdbc:postgresql://10.10.162.202:5432/postgres\"\n",
    "table_name = \"yellow\"\n",
    "connection_properties = {\n",
    "    \"user\": \"postgres\",\n",
    "    \"password\": \"postgres\",\n",
    "    \"driver\": \"org.postgresql.Driver\"\n",
    "}\n",
    "\n",
    "df=spark.read.format(\"delta\").load(\"file:///mounts/shared-volume/shared/dfm/silver/yellow/delta\")\n",
    "# Save the DataFrame to PostgreSQL\n",
    "df.write.jdbc(url=jdbc_url, table=table_name, mode=\"overwrite\", properties=connection_properties)\n"
   ]
  },
  {
   "cell_type": "code",
   "execution_count": null,
   "id": "196e43ae-cb2f-4515-936c-2c794d3b1def",
   "metadata": {},
   "outputs": [],
   "source": []
  }
 ],
 "metadata": {
  "kernelspec": {
   "display_name": "PySpark",
   "language": "python",
   "name": "pysparkkernel"
  },
  "language_info": {
   "codemirror_mode": {
    "name": "python",
    "version": 3
   },
   "file_extension": ".py",
   "mimetype": "text/x-python",
   "name": "pyspark",
   "pygments_lexer": "python3"
  }
 },
 "nbformat": 4,
 "nbformat_minor": 5
}
