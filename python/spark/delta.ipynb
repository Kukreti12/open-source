{
 "cells": [
  {
   "cell_type": "code",
   "execution_count": 6,
   "id": "f9ea6897-a466-4715-85e1-a44a42fd624c",
   "metadata": {
    "tags": []
   },
   "outputs": [
    {
     "data": {
      "application/vnd.jupyter.widget-view+json": {
       "model_id": "0a196dbdfae74383b8dc55b9acf336a6",
       "version_major": 2,
       "version_minor": 0
      },
      "text/plain": [
       "Tab(children=(ManageSessionWidget(children=(HTML(value='<br/>'), HTML(value='No sessions yet.'))), CreateSessi…"
      ]
     },
     "metadata": {},
     "output_type": "display_data"
    },
    {
     "data": {
      "application/vnd.jupyter.widget-view+json": {
       "model_id": "c264fe6ef2bb45679d137d2835fa94c2",
       "version_major": 2,
       "version_minor": 0
      },
      "text/html": [],
      "text/plain": [
       "MagicsControllerWidget(children=(Tab(children=(ManageSessionWidget(children=(HTML(value='<br/>'), HTML(value='…"
      ]
     },
     "execution_count": 6,
     "metadata": {},
     "output_type": "execute_result"
    }
   ],
   "source": [
    "%reload_ext sparkmagic.magics\n",
    "%manage_spark"
   ]
  },
  {
   "cell_type": "code",
   "execution_count": null,
   "id": "05414c95-9903-474e-bc20-e5e0074e0dc8",
   "metadata": {},
   "outputs": [],
   "source": [
    "## Spark config \n",
    "{\"driverMemory\": \"2000M\", \"executorCores\": 3,\n",
    " \"conf\": {\"spark.ssl.enabled\": false,\"spark.jars\": \"local:///mounts/shared-volume/shared/postgresql-4260.jar\",\"spark.sql.extensions\":\"io.delta.sql.DeltaSparkSessionExtension\",\"spark.sql.catalog.spark_catalog\":\"org.apache.spark.sql.delta.catalog.DeltaCatalog\" ,\"spark.kubernetes.driver.volumes.persistentVolumeClaim.pv1.options.claimName\": \"kubeflow-shared-pvc\", \"spark.kubernetes.driver.volumes.persistentVolumeClaim.pv1.mount.path\": \"/mounts/shared-volume/shared\", \"spark.kubernetes.driver.volumes.persistentVolumeClaim.pv1.mount.readOnly\": false, \"spark.kubernetes.executor.volumes.persistentVolumeClaim.pv1.options.claimName\": \"kubeflow-shared-pvc\", \"spark.kubernetes.executor.volumes.persistentVolumeClaim.pv1.mount.path\": \"/mounts/shared-volume/shared\", \"spark.kubernetes.executor.volumes.persistentVolumeClaim.pv1.mount.readOnly\": false, \"spark.kubernetes.driver.volumes.persistentVolumeClaim.upv1.options.claimName\": \"hpadmin-spark-pvc\", \"spark.kubernetes.driver.volumes.persistentVolumeClaim.upv1.mount.path\": \"/mounts/shared-volume/user\", \"spark.kubernetes.driver.volumes.persistentVolumeClaim.upv1.mount.readOnly\": false, \"spark.kubernetes.executor.volumes.persistentVolumeClaim.upv1.options.claimName\": \"hpadmin-spark-pvc\", \"spark.kubernetes.executor.volumes.persistentVolumeClaim.upv1.mount.path\": \"/mounts/shared-volume/user\", \"spark.kubernetes.executor.volumes.persistentVolumeClaim.upv1.mount.readOnly\": false, \"spark.dynamicAllocation.enabled\": true, \"spark.dynamicAllocation.shuffleTracking.enabled\": true, \"spark.dynamicAllocation.minExecutors\": 1, \"spark.dynamicAllocation.maxExecutors\": 4, \"spark.kubernetes.container.image\": \"gcr.io/mapr-252711/spark-py-3.3.1:v3.3.1\", \"spark.kubernetes.container.image.pullPolicy\": \"Always\", \"spark.hadoop.fs.s3a.connection.ssl.enabled\" : \"false\", \"spark.hadoop.fs.s3a.endpoint\" : \"http://10.10.162.201:9000/\", \"spark.hadoop.fs.s3a.access.key\" : \"minioadmin\",\"spark.hadoop.fs.s3a.secret.key\" : \"minioadmin\",\"spark.hadoop.fs.s3a.impl\": \"org.apache.hadoop.fs.s3a.S3AFileSystem\",\n",
    "\"spark.driver.extraJavaOptions\": \"-Dcom.amazonaws.sdk.disableCertChecking=true\",\"spark.executor.extraJavaOptions\": \"-Dcom.amazonaws.sdk.disableCertChecking=false\"}}\n"
   ]
  },
  {
   "cell_type": "code",
   "execution_count": 65,
   "id": "a6da04a3-6463-4ccd-815d-4a19a8868250",
   "metadata": {
    "tags": []
   },
   "outputs": [
    {
     "data": {
      "application/vnd.jupyter.widget-view+json": {
       "model_id": "",
       "version_major": 2,
       "version_minor": 0
      },
      "text/plain": [
       "FloatProgress(value=0.0, bar_style='info', description='Progress:', layout=Layout(height='25px', width='50%'),…"
      ]
     },
     "metadata": {},
     "output_type": "display_data"
    }
   ],
   "source": [
    "## Livy credentials\n",
    "#http://livy-0.livy-svc.spark.svc.cluster.local:8998\n",
    "#username- hpadmin\n",
    "#password- HP1nvent!\n",
    "\n",
    "from pyspark.sql.functions import *\n",
    "from delta.tables import *\n",
    "from pyspark.sql import SparkSession"
   ]
  },
  {
   "cell_type": "code",
   "execution_count": null,
   "id": "83fd50ab-2305-43a4-91bf-2c73aa221cb8",
   "metadata": {},
   "outputs": [],
   "source": [
    "{}.format"
   ]
  },
  {
   "cell_type": "markdown",
   "id": "91a15779-ef99-455b-baf9-079fff5975ec",
   "metadata": {
    "tags": []
   },
   "source": [
    "### Read the parquet files"
   ]
  },
  {
   "cell_type": "code",
   "execution_count": 104,
   "id": "fbfdda83-e0b6-49c3-bba1-17e881dbd256",
   "metadata": {
    "tags": []
   },
   "outputs": [
    {
     "data": {
      "application/vnd.jupyter.widget-view+json": {
       "model_id": "",
       "version_major": 2,
       "version_minor": 0
      },
      "text/plain": [
       "FloatProgress(value=0.0, bar_style='info', description='Progress:', layout=Layout(height='25px', width='50%'),…"
      ]
     },
     "metadata": {},
     "output_type": "display_data"
    }
   ],
   "source": [
    "def read_raw_file(taxi,monthdate):\n",
    "    df=spark.read.parquet('file:///mounts/shared-volume/shared/dfm/quarantine/{}/{}.parquet'.format(taxi,monthdate))\n",
    "    return df"
   ]
  },
  {
   "cell_type": "markdown",
   "id": "1956449c-bdda-4b35-9669-dfd97c3ef692",
   "metadata": {
    "tags": []
   },
   "source": [
    "## Identify the tip amount which is greater than $1000 "
   ]
  },
  {
   "cell_type": "code",
   "execution_count": 68,
   "id": "05e4cf38-81bc-4d10-a218-6d0bdde9bcff",
   "metadata": {
    "tags": []
   },
   "outputs": [
    {
     "data": {
      "application/vnd.jupyter.widget-view+json": {
       "model_id": "",
       "version_major": 2,
       "version_minor": 0
      },
      "text/plain": [
       "FloatProgress(value=0.0, bar_style='info', description='Progress:', layout=Layout(height='25px', width='50%'),…"
      ]
     },
     "metadata": {},
     "output_type": "display_data"
    }
   ],
   "source": [
    "##get the subset of the dataframe. Fist create the view from dataframe\n",
    "df_yellow_2020_01.createOrReplaceTempView(\"df_yellow_2020_01_view\")\n",
    "query = \"SELECT * FROM df_yellow_2020_01_view WHERE tip_amount >1000\""
   ]
  },
  {
   "cell_type": "code",
   "execution_count": 69,
   "id": "cb631784-592e-4791-bc13-5992fce9f120",
   "metadata": {
    "tags": []
   },
   "outputs": [
    {
     "data": {
      "application/vnd.jupyter.widget-view+json": {
       "model_id": "",
       "version_major": 2,
       "version_minor": 0
      },
      "text/plain": [
       "FloatProgress(value=0.0, bar_style='info', description='Progress:', layout=Layout(height='25px', width='50%'),…"
      ]
     },
     "metadata": {},
     "output_type": "display_data"
    }
   ],
   "source": [
    "sub_set=spark.sql(query)"
   ]
  },
  {
   "cell_type": "code",
   "execution_count": 70,
   "id": "d0f706d3-2915-40b6-a40b-7d67c4ea9db4",
   "metadata": {
    "tags": []
   },
   "outputs": [
    {
     "data": {
      "application/vnd.jupyter.widget-view+json": {
       "model_id": "",
       "version_major": 2,
       "version_minor": 0
      },
      "text/plain": [
       "FloatProgress(value=0.0, bar_style='info', description='Progress:', layout=Layout(height='25px', width='50%'),…"
      ]
     },
     "metadata": {},
     "output_type": "display_data"
    },
    {
     "name": "stdout",
     "output_type": "stream",
     "text": [
      "+----------+\n",
      "|tip_amount|\n",
      "+----------+\n",
      "|    1100.0|\n",
      "+----------+"
     ]
    }
   ],
   "source": [
    "sub_set.select('tip_amount').show()"
   ]
  },
  {
   "cell_type": "markdown",
   "id": "9eb8dd1f-9dfd-4bc8-8bb1-8ee56fb59ad4",
   "metadata": {
    "tags": []
   },
   "source": [
    "## Write a table in delta lake format"
   ]
  },
  {
   "cell_type": "code",
   "execution_count": 71,
   "id": "b04f04dc-1ced-4e27-8f79-fe790f315ff6",
   "metadata": {
    "tags": []
   },
   "outputs": [
    {
     "data": {
      "application/vnd.jupyter.widget-view+json": {
       "model_id": "",
       "version_major": 2,
       "version_minor": 0
      },
      "text/plain": [
       "FloatProgress(value=0.0, bar_style='info', description='Progress:', layout=Layout(height='25px', width='50%'),…"
      ]
     },
     "metadata": {},
     "output_type": "display_data"
    }
   ],
   "source": [
    "df_yellow_2020_01.write.format(\"delta\").save(\"file:///mounts/shared-volume/shared/dfm/silver/yellow/delta\")"
   ]
  },
  {
   "cell_type": "markdown",
   "id": "00106e3d-492b-4d11-ab94-ab247c35bba7",
   "metadata": {
    "tags": []
   },
   "source": [
    "## Read data from delta lake tables"
   ]
  },
  {
   "cell_type": "code",
   "execution_count": 76,
   "id": "2971c7dd-b68e-4f8e-99cb-8b043288e6e6",
   "metadata": {
    "tags": []
   },
   "outputs": [
    {
     "data": {
      "application/vnd.jupyter.widget-view+json": {
       "model_id": "",
       "version_major": 2,
       "version_minor": 0
      },
      "text/plain": [
       "FloatProgress(value=0.0, bar_style='info', description='Progress:', layout=Layout(height='25px', width='50%'),…"
      ]
     },
     "metadata": {},
     "output_type": "display_data"
    },
    {
     "name": "stdout",
     "output_type": "stream",
     "text": [
      "+--------+--------------------+---------------------+---------------+-------------+----------+------------------+------------+------------+------------+-----------+-----+-------+----------+------------+---------------------+------------+--------------------+-----------+\n",
      "|VendorID|tpep_pickup_datetime|tpep_dropoff_datetime|passenger_count|trip_distance|RatecodeID|store_and_fwd_flag|PULocationID|DOLocationID|payment_type|fare_amount|extra|mta_tax|tip_amount|tolls_amount|improvement_surcharge|total_amount|congestion_surcharge|airport_fee|\n",
      "+--------+--------------------+---------------------+---------------+-------------+----------+------------------+------------+------------+------------+-----------+-----+-------+----------+------------+---------------------+------------+--------------------+-----------+\n",
      "|       1| 2020-02-01 00:17:35|  2020-02-01 00:30:32|            1.0|          2.6|       1.0|                 N|         145|           7|           1|       11.0|  0.5|    0.5|      2.45|         0.0|                  0.3|       14.75|                 0.0|       null|\n",
      "|       1| 2020-02-01 00:32:47|  2020-02-01 01:05:36|            1.0|          4.8|       1.0|                 N|          45|          61|           1|       21.5|  3.0|    0.5|       6.3|         0.0|                  0.3|        31.6|                 2.5|       null|\n",
      "|       1| 2020-02-01 00:31:44|  2020-02-01 00:43:28|            1.0|          3.2|       1.0|                 N|         186|         140|           1|       11.0|  3.0|    0.5|       1.0|         0.0|                  0.3|        15.8|                 2.5|       null|\n",
      "|       2| 2020-02-01 00:07:35|  2020-02-01 00:31:39|            1.0|         4.38|       1.0|                 N|         144|         140|           1|       18.0|  0.5|    0.5|       3.0|         0.0|                  0.3|        24.8|                 2.5|       null|\n",
      "|       2| 2020-02-01 00:51:43|  2020-02-01 01:01:29|            1.0|         2.28|       1.0|                 N|         238|         152|           2|        9.5|  0.5|    0.5|       0.0|         0.0|                  0.3|        10.8|                 0.0|       null|\n",
      "|       1| 2020-02-01 00:15:49|  2020-02-01 00:20:48|            2.0|          1.0|       1.0|                 N|         249|         107|           1|        5.5|  3.0|    0.5|      1.85|         0.0|                  0.3|       11.15|                 2.5|       null|\n",
      "|       1| 2020-02-01 00:25:31|  2020-02-01 00:50:22|            2.0|          3.4|       1.0|                 N|          79|         256|           1|       18.5|  3.0|    0.5|      4.45|         0.0|                  0.3|       26.75|                 2.5|       null|\n",
      "|       1| 2020-02-01 00:11:15|  2020-02-01 00:24:29|            1.0|          2.1|       1.0|                 N|         224|          68|           2|       10.5|  3.0|    0.5|       0.0|         0.0|                  0.3|        14.3|                 2.5|       null|\n",
      "|       2| 2020-02-01 00:58:26|  2020-02-01 01:02:26|            1.0|          0.8|       1.0|                 N|         116|          42|           1|        5.0|  0.5|    0.5|      1.26|         0.0|                  0.3|        7.56|                 0.0|       null|\n",
      "|       2| 2020-02-01 00:03:57|  2020-02-01 00:48:10|            1.0|         7.22|       1.0|                 N|         161|          45|           1|       30.5|  0.5|    0.5|      8.57|         0.0|                  0.3|       42.87|                 2.5|       null|\n",
      "|       1| 2020-02-01 00:19:07|  2020-02-01 00:24:27|            2.0|          1.4|       1.0|                 N|         263|         229|           2|        6.5|  3.0|    0.5|       0.0|         0.0|                  0.3|        10.3|                 2.5|       null|\n",
      "|       1| 2020-02-01 00:24:44|  2020-02-01 00:40:19|            1.0|          4.9|       1.0|                 N|         164|          41|           2|       16.0|  3.0|    0.5|       0.0|         0.0|                  0.3|        19.8|                 2.5|       null|\n",
      "|       1| 2020-02-01 00:14:52|  2020-02-01 00:24:45|            2.0|          1.5|       1.0|                 N|         233|         107|           1|        8.5|  3.0|    0.5|      2.45|         0.0|                  0.3|       14.75|                 2.5|       null|\n",
      "|       1| 2020-02-01 00:37:47|  2020-02-01 00:46:59|            1.0|          1.2|       1.0|                 N|         170|          50|           1|        8.0|  3.0|    0.5|      2.35|         0.0|                  0.3|       14.15|                 2.5|       null|\n",
      "|       2| 2020-02-01 00:18:45|  2020-02-01 00:26:00|            1.0|         1.25|       1.0|                 N|         249|         114|           1|        6.5|  0.5|    0.5|      2.58|         0.0|                  0.3|       12.88|                 2.5|       null|\n",
      "|       2| 2020-02-01 00:53:08|  2020-02-01 00:57:13|            1.0|         1.11|       1.0|                 N|         164|         163|           1|        5.5|  0.5|    0.5|      1.86|         0.0|                  0.3|       11.16|                 2.5|       null|\n",
      "|       1| 2020-02-01 00:17:03|  2020-02-01 00:23:41|            2.0|          1.0|       1.0|                 N|         211|         249|           1|        6.0|  3.0|    0.5|      1.95|         0.0|                  0.3|       11.75|                 2.5|       null|\n",
      "|       1| 2020-02-01 00:26:31|  2020-02-01 00:52:26|            1.0|          7.5|       1.0|                 N|         249|          80|           1|       25.0|  3.0|    0.5|      6.95|        6.12|                  0.3|       41.87|                 2.5|       null|\n",
      "|       2| 2020-02-01 00:25:50|  2020-02-01 00:29:43|            3.0|          0.6|       1.0|                 N|         246|         246|           1|        4.5|  0.5|    0.5|      1.66|         0.0|                  0.3|        9.96|                 2.5|       null|\n",
      "|       2| 2020-02-01 00:25:31|  2020-02-01 00:28:50|            1.0|         0.63|       1.0|                 N|         170|         170|           1|        4.5|  0.5|    0.5|      1.66|         0.0|                  0.3|        9.96|                 2.5|       null|\n",
      "+--------+--------------------+---------------------+---------------+-------------+----------+------------------+------------+------------+------------+-----------+-----+-------+----------+------------+---------------------+------------+--------------------+-----------+\n",
      "only showing top 20 rows"
     ]
    }
   ],
   "source": [
    "## Read data from delta lake tables\n",
    "df_yellow_2020_01_delta = spark.read.format(\"delta\").load(\"file:///mounts/shared-volume/shared/dfm/silver/yellow/delta\")\n",
    "df_yellow_2020_01_delta.show()"
   ]
  },
  {
   "cell_type": "markdown",
   "id": "4745f36d-4336-4eed-909a-a6152b6e2a77",
   "metadata": {
    "tags": []
   },
   "source": [
    "### update table data"
   ]
  },
  {
   "cell_type": "markdown",
   "id": "3040164b-279c-4a97-8d49-54d4321cae2d",
   "metadata": {
    "tags": []
   },
   "source": [
    "### Overwrite"
   ]
  },
  {
   "cell_type": "code",
   "execution_count": 105,
   "id": "d2b6753b-2cb2-4de2-8dd4-aeccf3752935",
   "metadata": {
    "tags": []
   },
   "outputs": [
    {
     "data": {
      "application/vnd.jupyter.widget-view+json": {
       "model_id": "",
       "version_major": 2,
       "version_minor": 0
      },
      "text/plain": [
       "FloatProgress(value=0.0, bar_style='info', description='Progress:', layout=Layout(height='25px', width='50%'),…"
      ]
     },
     "metadata": {},
     "output_type": "display_data"
    }
   ],
   "source": [
    "df_march=read_raw_file(\"yellow\",\"2020-03\")"
   ]
  },
  {
   "cell_type": "code",
   "execution_count": 110,
   "id": "080ef7b9-7b96-432a-94f6-597d3d3c8f0e",
   "metadata": {
    "tags": []
   },
   "outputs": [
    {
     "data": {
      "application/vnd.jupyter.widget-view+json": {
       "model_id": "",
       "version_major": 2,
       "version_minor": 0
      },
      "text/plain": [
       "FloatProgress(value=0.0, bar_style='info', description='Progress:', layout=Layout(height='25px', width='50%'),…"
      ]
     },
     "metadata": {},
     "output_type": "display_data"
    }
   ],
   "source": [
    "def transform_colum(df,column_name,col_type):\n",
    "    df=df.withColumn(column_name,col(column_name).cast(col_type))\n",
    "    return df"
   ]
  },
  {
   "cell_type": "code",
   "execution_count": 111,
   "id": "65f64bdb-eda8-4ec9-81ea-4e3a97d420d7",
   "metadata": {
    "tags": []
   },
   "outputs": [
    {
     "data": {
      "application/vnd.jupyter.widget-view+json": {
       "model_id": "",
       "version_major": 2,
       "version_minor": 0
      },
      "text/plain": [
       "FloatProgress(value=0.0, bar_style='info', description='Progress:', layout=Layout(height='25px', width='50%'),…"
      ]
     },
     "metadata": {},
     "output_type": "display_data"
    }
   ],
   "source": [
    "df_march_transformed=transform_colum(df_march,\"airport_fee\",\"integer\")"
   ]
  },
  {
   "cell_type": "code",
   "execution_count": 112,
   "id": "e8d981cf-0dc1-4cef-98bd-1c666c3e84ac",
   "metadata": {
    "tags": []
   },
   "outputs": [
    {
     "data": {
      "application/vnd.jupyter.widget-view+json": {
       "model_id": "",
       "version_major": 2,
       "version_minor": 0
      },
      "text/plain": [
       "FloatProgress(value=0.0, bar_style='info', description='Progress:', layout=Layout(height='25px', width='50%'),…"
      ]
     },
     "metadata": {},
     "output_type": "display_data"
    }
   ],
   "source": [
    "def append_data(df, deltapathlocation=\"file:///mounts/shared-volume/shared/dfm/silver/yellow/delta\"):\n",
    "    df.write.format(\"delta\").mode(\"append\").save(deltapathlocation)"
   ]
  },
  {
   "cell_type": "code",
   "execution_count": 113,
   "id": "1aa0ebe6-7d4d-4e3c-93cf-5a18ca799da6",
   "metadata": {
    "tags": []
   },
   "outputs": [
    {
     "data": {
      "application/vnd.jupyter.widget-view+json": {
       "model_id": "",
       "version_major": 2,
       "version_minor": 0
      },
      "text/plain": [
       "FloatProgress(value=0.0, bar_style='info', description='Progress:', layout=Layout(height='25px', width='50%'),…"
      ]
     },
     "metadata": {},
     "output_type": "display_data"
    }
   ],
   "source": [
    "append_data(df_march_transformed)"
   ]
  },
  {
   "cell_type": "markdown",
   "id": "e07f5eac-9947-4fa1-af89-4a27dc2aba5c",
   "metadata": {
    "tags": []
   },
   "source": [
    "### Conditional overwrite merge aand update"
   ]
  },
  {
   "cell_type": "code",
   "execution_count": 77,
   "id": "e3bb6156-f005-43d0-9485-6d1855cf89b8",
   "metadata": {
    "tags": []
   },
   "outputs": [
    {
     "data": {
      "application/vnd.jupyter.widget-view+json": {
       "model_id": "",
       "version_major": 2,
       "version_minor": 0
      },
      "text/plain": [
       "FloatProgress(value=0.0, bar_style='info', description='Progress:', layout=Layout(height='25px', width='50%'),…"
      ]
     },
     "metadata": {},
     "output_type": "display_data"
    }
   ],
   "source": [
    "deltaTable = DeltaTable.forPath(spark, \"file:///mounts/shared-volume/shared/dfm/silver/yellow/delta\")\n",
    "\n",
    "# Update every even value by subtracting 100 to it\n",
    "deltaTable.update(\n",
    "  condition = expr(\"tip_amount == 1100\"),\n",
    "  set = { \"tip_amount\": expr(\"tip_amount - 100\") })\n"
   ]
  },
  {
   "cell_type": "code",
   "execution_count": 114,
   "id": "77f1420a-86e3-49f0-8228-a019aa7e2f32",
   "metadata": {
    "tags": []
   },
   "outputs": [
    {
     "data": {
      "application/vnd.jupyter.widget-view+json": {
       "model_id": "",
       "version_major": 2,
       "version_minor": 0
      },
      "text/plain": [
       "FloatProgress(value=0.0, bar_style='info', description='Progress:', layout=Layout(height='25px', width='50%'),…"
      ]
     },
     "metadata": {},
     "output_type": "display_data"
    }
   ],
   "source": [
    "## Read the updated data\n",
    "df_yellow_2020_update = spark.read.format(\"delta\").load(\"file:///mounts/shared-volume/shared/dfm/silver/yellow/delta\")\n",
    "df_yellow_2020_update.createOrReplaceTempView(\"df_yellow_2020_update_view\")"
   ]
  },
  {
   "cell_type": "code",
   "execution_count": 115,
   "id": "9c709e32-896a-46aa-8461-264efe2cbde6",
   "metadata": {
    "tags": []
   },
   "outputs": [
    {
     "data": {
      "application/vnd.jupyter.widget-view+json": {
       "model_id": "",
       "version_major": 2,
       "version_minor": 0
      },
      "text/plain": [
       "FloatProgress(value=0.0, bar_style='info', description='Progress:', layout=Layout(height='25px', width='50%'),…"
      ]
     },
     "metadata": {},
     "output_type": "display_data"
    },
    {
     "name": "stdout",
     "output_type": "stream",
     "text": [
      "root\n",
      " |-- VendorID: long (nullable = true)\n",
      " |-- tpep_pickup_datetime: timestamp (nullable = true)\n",
      " |-- tpep_dropoff_datetime: timestamp (nullable = true)\n",
      " |-- passenger_count: double (nullable = true)\n",
      " |-- trip_distance: double (nullable = true)\n",
      " |-- RatecodeID: double (nullable = true)\n",
      " |-- store_and_fwd_flag: string (nullable = true)\n",
      " |-- PULocationID: long (nullable = true)\n",
      " |-- DOLocationID: long (nullable = true)\n",
      " |-- payment_type: long (nullable = true)\n",
      " |-- fare_amount: double (nullable = true)\n",
      " |-- extra: double (nullable = true)\n",
      " |-- mta_tax: double (nullable = true)\n",
      " |-- tip_amount: double (nullable = true)\n",
      " |-- tolls_amount: double (nullable = true)\n",
      " |-- improvement_surcharge: double (nullable = true)\n",
      " |-- total_amount: double (nullable = true)\n",
      " |-- congestion_surcharge: double (nullable = true)\n",
      " |-- airport_fee: integer (nullable = true)"
     ]
    }
   ],
   "source": [
    "df_yellow_2020_update.printSchema()"
   ]
  },
  {
   "cell_type": "code",
   "execution_count": 116,
   "id": "deaaaf13-e3cd-4f68-8787-c0d0b04076fb",
   "metadata": {
    "tags": []
   },
   "outputs": [
    {
     "data": {
      "application/vnd.jupyter.widget-view+json": {
       "model_id": "",
       "version_major": 2,
       "version_minor": 0
      },
      "text/plain": [
       "FloatProgress(value=0.0, bar_style='info', description='Progress:', layout=Layout(height='25px', width='50%'),…"
      ]
     },
     "metadata": {},
     "output_type": "display_data"
    }
   ],
   "source": [
    "query = \"SELECT * FROM df_yellow_2020_update_view WHERE tip_amount >= 1000\"\n",
    "sub_set=spark.sql(query)"
   ]
  },
  {
   "cell_type": "code",
   "execution_count": 117,
   "id": "82870aea-82bc-4047-9b36-c4eda3a7e65a",
   "metadata": {
    "tags": []
   },
   "outputs": [
    {
     "data": {
      "application/vnd.jupyter.widget-view+json": {
       "model_id": "",
       "version_major": 2,
       "version_minor": 0
      },
      "text/plain": [
       "FloatProgress(value=0.0, bar_style='info', description='Progress:', layout=Layout(height='25px', width='50%'),…"
      ]
     },
     "metadata": {},
     "output_type": "display_data"
    },
    {
     "name": "stdout",
     "output_type": "stream",
     "text": [
      "+--------+--------------------+---------------------+---------------+-------------+----------+------------------+------------+------------+------------+-----------+-----+-------+----------+------------+---------------------+------------+--------------------+-----------+\n",
      "|VendorID|tpep_pickup_datetime|tpep_dropoff_datetime|passenger_count|trip_distance|RatecodeID|store_and_fwd_flag|PULocationID|DOLocationID|payment_type|fare_amount|extra|mta_tax|tip_amount|tolls_amount|improvement_surcharge|total_amount|congestion_surcharge|airport_fee|\n",
      "+--------+--------------------+---------------------+---------------+-------------+----------+------------------+------------+------------+------------+-----------+-----+-------+----------+------------+---------------------+------------+--------------------+-----------+\n",
      "|       1| 2020-01-22 16:41:24|  2020-01-22 16:49:28|            1.0|         0.55|       1.0|                 N|         231|         209|           1|        6.5|  1.0|    0.5|    1000.0|         0.0|                  0.3|      1110.8|                 2.5|       null|\n",
      "+--------+--------------------+---------------------+---------------+-------------+----------+------------------+------------+------------+------------+-----------+-----+-------+----------+------------+---------------------+------------+--------------------+-----------+"
     ]
    }
   ],
   "source": [
    "sub_set.show()"
   ]
  },
  {
   "cell_type": "code",
   "execution_count": 89,
   "id": "5fe243cc-5c55-4a8d-98a9-cb2a2b97aa32",
   "metadata": {
    "tags": []
   },
   "outputs": [
    {
     "data": {
      "application/vnd.jupyter.widget-view+json": {
       "model_id": "",
       "version_major": 2,
       "version_minor": 0
      },
      "text/plain": [
       "FloatProgress(value=0.0, bar_style='info', description='Progress:', layout=Layout(height='25px', width='50%'),…"
      ]
     },
     "metadata": {},
     "output_type": "display_data"
    },
    {
     "name": "stdout",
     "output_type": "stream",
     "text": [
      "+------------+\n",
      "|total_amount|\n",
      "+------------+\n",
      "|      1110.8|\n",
      "+------------+"
     ]
    }
   ],
   "source": [
    "sub_set.select('total_amount').show()"
   ]
  },
  {
   "cell_type": "code",
   "execution_count": 90,
   "id": "f70a0207-f2e0-4fbf-908e-d9e90833548f",
   "metadata": {
    "tags": []
   },
   "outputs": [
    {
     "data": {
      "application/vnd.jupyter.widget-view+json": {
       "model_id": "",
       "version_major": 2,
       "version_minor": 0
      },
      "text/plain": [
       "FloatProgress(value=0.0, bar_style='info', description='Progress:', layout=Layout(height='25px', width='50%'),…"
      ]
     },
     "metadata": {},
     "output_type": "display_data"
    }
   ],
   "source": [
    "from pyspark.sql.functions import col\n",
    "# Define the condition for updating the column\n",
    "condition = col(\"tip_amount\") == 1000\n",
    "\n",
    "# Define the new value you want to update the column with\n",
    "new_value = 1\n",
    "\n",
    "# Update the column using withColumn()\n",
    "updated_df = sub_set.withColumn(\"VendorID\", when(condition, new_value).otherwise(col(\"VendorID\")))\n"
   ]
  },
  {
   "cell_type": "code",
   "execution_count": 91,
   "id": "4ab0052e-7445-47b1-a123-963fcbda8671",
   "metadata": {
    "tags": []
   },
   "outputs": [
    {
     "data": {
      "application/vnd.jupyter.widget-view+json": {
       "model_id": "",
       "version_major": 2,
       "version_minor": 0
      },
      "text/plain": [
       "FloatProgress(value=0.0, bar_style='info', description='Progress:', layout=Layout(height='25px', width='50%'),…"
      ]
     },
     "metadata": {},
     "output_type": "display_data"
    },
    {
     "name": "stdout",
     "output_type": "stream",
     "text": [
      "+--------+--------------------+---------------------+---------------+-------------+----------+------------------+------------+------------+------------+-----------+-----+-------+----------+------------+---------------------+------------+--------------------+-----------+\n",
      "|VendorID|tpep_pickup_datetime|tpep_dropoff_datetime|passenger_count|trip_distance|RatecodeID|store_and_fwd_flag|PULocationID|DOLocationID|payment_type|fare_amount|extra|mta_tax|tip_amount|tolls_amount|improvement_surcharge|total_amount|congestion_surcharge|airport_fee|\n",
      "+--------+--------------------+---------------------+---------------+-------------+----------+------------------+------------+------------+------------+-----------+-----+-------+----------+------------+---------------------+------------+--------------------+-----------+\n",
      "|       1| 2020-01-22 16:41:24|  2020-01-22 16:49:28|            1.0|         0.55|       1.0|                 N|         231|         209|           1|        6.5|  1.0|    0.5|    1000.0|         0.0|                  0.3|      1110.8|                 2.5|       null|\n",
      "+--------+--------------------+---------------------+---------------+-------------+----------+------------------+------------+------------+------------+-----------+-----+-------+----------+------------+---------------------+------------+--------------------+-----------+"
     ]
    }
   ],
   "source": [
    "updated_df.show()"
   ]
  },
  {
   "cell_type": "code",
   "execution_count": 92,
   "id": "90aae829-5ad8-487d-a80b-e71584d05a8c",
   "metadata": {
    "tags": []
   },
   "outputs": [
    {
     "data": {
      "application/vnd.jupyter.widget-view+json": {
       "model_id": "",
       "version_major": 2,
       "version_minor": 0
      },
      "text/plain": [
       "FloatProgress(value=0.0, bar_style='info', description='Progress:', layout=Layout(height='25px', width='50%'),…"
      ]
     },
     "metadata": {},
     "output_type": "display_data"
    }
   ],
   "source": [
    "deltaTable.alias(\"oldData\") \\\n",
    "  .merge(\n",
    "    updated_df.alias(\"newData\"),\n",
    "    \"oldData.tip_amount = newData.tip_amount\") \\\n",
    "  .whenMatchedUpdate(set = { \"VendorID\": col(\"newData.VendorID\") }) \\\n",
    "  .whenNotMatchedInsert(values = { \"VendorID\": col(\"newData.VendorID\") }) \\\n",
    "  .execute()\n"
   ]
  },
  {
   "cell_type": "markdown",
   "id": "50871aaf-07ae-45c7-a036-4f3894c64d13",
   "metadata": {
    "tags": []
   },
   "source": [
    "## History"
   ]
  },
  {
   "cell_type": "code",
   "execution_count": 93,
   "id": "6d974bd5-2312-4709-ae15-060d74afe0e8",
   "metadata": {
    "tags": []
   },
   "outputs": [
    {
     "data": {
      "application/vnd.jupyter.widget-view+json": {
       "model_id": "",
       "version_major": 2,
       "version_minor": 0
      },
      "text/plain": [
       "FloatProgress(value=0.0, bar_style='info', description='Progress:', layout=Layout(height='25px', width='50%'),…"
      ]
     },
     "metadata": {},
     "output_type": "display_data"
    }
   ],
   "source": [
    "fullHistoryDF = deltaTable.history() "
   ]
  },
  {
   "cell_type": "code",
   "execution_count": 94,
   "id": "0847321b-53a3-41d2-9557-3aff3943d75a",
   "metadata": {
    "tags": []
   },
   "outputs": [
    {
     "data": {
      "application/vnd.jupyter.widget-view+json": {
       "model_id": "",
       "version_major": 2,
       "version_minor": 0
      },
      "text/plain": [
       "FloatProgress(value=0.0, bar_style='info', description='Progress:', layout=Layout(height='25px', width='50%'),…"
      ]
     },
     "metadata": {},
     "output_type": "display_data"
    },
    {
     "name": "stdout",
     "output_type": "stream",
     "text": [
      "+-----------------------+---------+-------+\n",
      "|timestamp              |operation|version|\n",
      "+-----------------------+---------+-------+\n",
      "|2023-07-24 18:31:18.445|MERGE    |3      |\n",
      "|2023-07-24 18:28:40.883|UPDATE   |2      |\n",
      "|2023-07-24 18:17:43.971|WRITE    |1      |\n",
      "|2023-07-24 18:17:19.583|WRITE    |0      |\n",
      "+-----------------------+---------+-------+"
     ]
    }
   ],
   "source": [
    "fullHistoryDF.select(col(\"timestamp\"),col(\"operation\"),col(\"version\")).show(truncate=False)"
   ]
  },
  {
   "cell_type": "markdown",
   "id": "9a54d29c-50e4-4c68-ba18-e9f5edc45557",
   "metadata": {
    "tags": []
   },
   "source": [
    "## Time Travel"
   ]
  },
  {
   "cell_type": "code",
   "execution_count": 95,
   "id": "de3b8bfa-da34-460f-8cf8-47cb636f7fc9",
   "metadata": {
    "tags": []
   },
   "outputs": [
    {
     "data": {
      "application/vnd.jupyter.widget-view+json": {
       "model_id": "",
       "version_major": 2,
       "version_minor": 0
      },
      "text/plain": [
       "FloatProgress(value=0.0, bar_style='info', description='Progress:', layout=Layout(height='25px', width='50%'),…"
      ]
     },
     "metadata": {},
     "output_type": "display_data"
    }
   ],
   "source": [
    "df_time_travel = spark.read.format(\"delta\").option(\"versionAsOf\", 3).load(\"file:///mounts/shared-volume/shared/dfm/silver/yellow/delta\")"
   ]
  },
  {
   "cell_type": "code",
   "execution_count": 96,
   "id": "c04dc0f9-ec88-4955-b38e-94c8b1b1c63f",
   "metadata": {
    "tags": []
   },
   "outputs": [
    {
     "data": {
      "application/vnd.jupyter.widget-view+json": {
       "model_id": "",
       "version_major": 2,
       "version_minor": 0
      },
      "text/plain": [
       "FloatProgress(value=0.0, bar_style='info', description='Progress:', layout=Layout(height='25px', width='50%'),…"
      ]
     },
     "metadata": {},
     "output_type": "display_data"
    },
    {
     "name": "stdout",
     "output_type": "stream",
     "text": [
      "+--------+--------------------+---------------------+---------------+-------------+----------+------------------+------------+------------+------------+-----------+-----+-------+----------+------------+---------------------+------------+--------------------+-----------+\n",
      "|VendorID|tpep_pickup_datetime|tpep_dropoff_datetime|passenger_count|trip_distance|RatecodeID|store_and_fwd_flag|PULocationID|DOLocationID|payment_type|fare_amount|extra|mta_tax|tip_amount|tolls_amount|improvement_surcharge|total_amount|congestion_surcharge|airport_fee|\n",
      "+--------+--------------------+---------------------+---------------+-------------+----------+------------------+------------+------------+------------+-----------+-----+-------+----------+------------+---------------------+------------+--------------------+-----------+\n",
      "|       2| 2020-01-15 12:23:08|  2020-01-15 12:31:04|            1.0|         0.96|       1.0|                 N|          68|         234|           1|       -6.5|  0.0|   -0.5|     -91.0|         0.0|                 -0.3|      -100.8|                -2.5|       null|\n",
      "|       2| 2020-01-08 13:09:50|  2020-01-08 13:43:03|            1.0|        10.65|       1.0|                 N|         132|          92|           3|      -34.0|  0.0|   -0.5|     -40.0|         0.0|                 -0.3|       -74.8|                 0.0|       null|\n",
      "|       2| 2020-01-14 21:07:36|  2020-01-14 21:24:04|            1.0|         2.95|       1.0|                 N|         231|         164|           4|      -13.0| -0.5|   -0.5|     -30.0|         0.0|                 -0.3|       -46.8|                -2.5|       null|\n",
      "|       2| 2020-01-19 11:06:05|  2020-01-19 11:33:35|            1.0|         5.49|       1.0|                 N|         186|          52|           4|      -21.5|  0.0|   -0.5|     -24.8|         0.0|                 -0.3|       -49.6|                -2.5|       null|\n",
      "|       2| 2020-01-09 07:30:26|  2020-01-09 07:47:59|            1.0|         1.69|       1.0|                 N|         164|         230|           1|      -12.0|  0.0|   -0.5|    -19.17|         0.0|                 -0.3|      -34.47|                -2.5|       null|\n",
      "|       2| 2020-01-27 17:18:57|  2020-01-27 17:19:32|            1.0|          0.0|       1.0|                 N|         186|         186|           4|       -2.5| -1.0|   -0.5|      -9.0|         0.0|                 -0.3|       -15.8|                -2.5|       null|\n",
      "|       2| 2020-01-02 08:23:29|  2020-01-02 08:32:22|            1.0|         1.73|       1.0|                 N|         138|         138|           3|       -8.0|  0.0|   -0.5|      -7.0|         0.0|                 -0.3|       -15.8|                 0.0|       null|\n",
      "|       2| 2020-01-09 17:53:22|  2020-01-09 18:16:56|            1.0|         5.12|       1.0|                 N|         132|         218|           1|      -21.0| -1.0|   -0.5|     -6.84|         0.0|                 -0.3|      -29.64|                 0.0|       null|\n",
      "|       2| 2020-01-07 16:50:07|  2020-01-07 17:07:07|            1.0|          6.0|       1.0|                 N|         132|         197|           1|      -18.5| -1.0|   -0.5|     -6.09|         0.0|                 -0.3|      -26.39|                 0.0|       null|\n",
      "|       2| 2020-01-19 13:55:30|  2020-01-19 13:59:28|            1.0|         0.99|       1.0|                 N|         138|          70|           1|       -5.0|  0.0|   -0.5|      -6.0|         0.0|                 -0.3|       -11.8|                 0.0|       null|\n",
      "|       2| 2020-01-10 19:22:00|  2020-01-10 19:47:48|            1.0|          5.6|       1.0|                 N|         132|         139|           1|      -23.0| -1.0|   -0.5|     -4.96|         0.0|                 -0.3|      -29.76|                 0.0|       null|\n",
      "|       2| 2020-01-10 15:23:31|  2020-01-10 15:26:39|            1.0|          0.0|       5.0|                 N|         186|         186|           3|      -12.0|  0.0|    0.0|     -2.96|         0.0|                 -0.3|      -17.76|                -2.5|       null|\n",
      "|       2| 2020-01-22 00:54:32|  2020-01-22 00:54:38|            1.0|          0.0|       5.0|                 N|         224|         264|           3|      -10.8|  0.0|   -0.5|      -2.9|         0.0|                 -0.3|       -14.5|                 0.0|       null|\n",
      "|       2| 2020-01-31 14:15:46|  2020-01-31 14:27:14|            1.0|         0.76|       1.0|                 N|         142|         142|           4|       -8.0|  0.0|   -0.5|     -2.83|         0.0|                 -0.3|      -14.13|                -2.5|       null|\n",
      "|       2| 2020-01-31 20:54:44|  2020-01-31 20:54:56|            1.0|          0.0|       1.0|                 N|         193|         193|           3|       -2.5| -0.5|   -0.5|     -2.65|         0.0|                 -0.3|       -6.45|                 0.0|       null|\n",
      "|       2| 2020-01-15 21:41:44|  2020-01-15 21:47:58|            1.0|         0.93|       1.0|                 N|         142|         230|           3|       -6.0| -0.5|   -0.5|     -2.45|         0.0|                 -0.3|      -12.25|                -2.5|       null|\n",
      "|       2| 2020-01-22 10:09:32|  2020-01-22 10:18:22|            1.0|         1.02|       1.0|                 N|         237|         161|           4|       -7.5|  0.0|   -0.5|     -2.16|         0.0|                 -0.3|      -12.96|                -2.5|       null|\n",
      "|       2| 2020-01-23 22:49:24|  2020-01-23 22:52:36|            6.0|         0.69|       1.0|                 N|         230|         186|           3|       -4.5| -0.5|   -0.5|     -1.66|         0.0|                 -0.3|       -9.96|                -2.5|       null|\n",
      "|       2| 2020-01-23 09:50:09|  2020-01-23 09:59:19|            1.0|         0.72|       1.0|                 N|         239|         264|           4|       -4.5| -2.5|   -0.5|     -1.56|         0.0|                 -0.3|       -9.36|                 0.0|       null|\n",
      "|       2| 2020-01-31 16:45:01|  2020-01-31 16:47:29|            1.0|         0.32|       1.0|                 N|         239|         239|           3|       -3.5| -1.0|   -0.5|     -1.56|         0.0|                 -0.3|      -14.31|                -2.5|       null|\n",
      "+--------+--------------------+---------------------+---------------+-------------+----------+------------------+------------+------------+------------+-----------+-----+-------+----------+------------+---------------------+------------+--------------------+-----------+\n",
      "only showing top 20 rows"
     ]
    }
   ],
   "source": [
    "df_time_travel.show()"
   ]
  },
  {
   "cell_type": "markdown",
   "id": "3c04d8a1-2075-49a2-b4ee-a233d86a2c06",
   "metadata": {
    "tags": []
   },
   "source": [
    "## Detail"
   ]
  },
  {
   "cell_type": "code",
   "execution_count": 97,
   "id": "fb5cfcf3-96b2-4193-90fc-e1eeb7b0062b",
   "metadata": {
    "tags": []
   },
   "outputs": [
    {
     "data": {
      "application/vnd.jupyter.widget-view+json": {
       "model_id": "",
       "version_major": 2,
       "version_minor": 0
      },
      "text/plain": [
       "FloatProgress(value=0.0, bar_style='info', description='Progress:', layout=Layout(height='25px', width='50%'),…"
      ]
     },
     "metadata": {},
     "output_type": "display_data"
    }
   ],
   "source": [
    "detailDF = deltaTable.detail()"
   ]
  },
  {
   "cell_type": "code",
   "execution_count": 98,
   "id": "417b00c4-5181-4b44-866b-6b1fbb9879bb",
   "metadata": {
    "tags": []
   },
   "outputs": [
    {
     "data": {
      "application/vnd.jupyter.widget-view+json": {
       "model_id": "",
       "version_major": 2,
       "version_minor": 0
      },
      "text/plain": [
       "FloatProgress(value=0.0, bar_style='info', description='Progress:', layout=Layout(height='25px', width='50%'),…"
      ]
     },
     "metadata": {},
     "output_type": "display_data"
    },
    {
     "name": "stdout",
     "output_type": "stream",
     "text": [
      "+------+------------------------------------+----+-----------+---------------------------------------------------------+-----------------------+-----------------------+----------------+--------+-----------+----------+----------------+----------------+\n",
      "|format|id                                  |name|description|location                                                 |createdAt              |lastModified           |partitionColumns|numFiles|sizeInBytes|properties|minReaderVersion|minWriterVersion|\n",
      "+------+------------------------------------+----+-----------+---------------------------------------------------------+-----------------------+-----------------------+----------------+--------+-----------+----------+----------------+----------------+\n",
      "|delta |d357456c-1dd8-4d06-8f4e-e6540f73c0c3|null|null       |file:/mounts/shared-volume/shared/dfm/silver/yellow/delta|2023-07-24 18:16:30.054|2023-07-24 18:31:18.445|[]              |6       |260892323  |{}        |1               |2               |\n",
      "+------+------------------------------------+----+-----------+---------------------------------------------------------+-----------------------+-----------------------+----------------+--------+-----------+----------+----------------+----------------+"
     ]
    }
   ],
   "source": [
    "detailDF.show(truncate=False)"
   ]
  },
  {
   "cell_type": "code",
   "execution_count": 118,
   "id": "9c3f51f3-e169-4e72-80a4-304ba0a5b792",
   "metadata": {
    "tags": []
   },
   "outputs": [
    {
     "data": {
      "application/vnd.jupyter.widget-view+json": {
       "model_id": "",
       "version_major": 2,
       "version_minor": 0
      },
      "text/plain": [
       "FloatProgress(value=0.0, bar_style='info', description='Progress:', layout=Layout(height='25px', width='50%'),…"
      ]
     },
     "metadata": {},
     "output_type": "display_data"
    }
   ],
   "source": [
    "## Save final dataframe to the postgres\n",
    "# Assuming you have a DataFrame called \"df\" and want to save it to a PostgreSQL table\n",
    "\n",
    "# Define the connection properties\n",
    "jdbc_url = \"jdbc:postgresql://10.10.162.202:5432/postgres\"\n",
    "table_name = \"yellow\"\n",
    "connection_properties = {\n",
    "    \"user\": \"postgres\",\n",
    "    \"password\": \"postgres\",\n",
    "    \"driver\": \"org.postgresql.Driver\"\n",
    "}\n",
    "\n",
    "df=spark.read.format(\"delta\").load(\"file:///mounts/shared-volume/shared/dfm/silver/yellow/delta\")\n",
    "# Save the DataFrame to PostgreSQL\n",
    "df.write.jdbc(url=jdbc_url, table=table_name, mode=\"overwrite\", properties=connection_properties)\n"
   ]
  },
  {
   "cell_type": "code",
   "execution_count": null,
   "id": "196e43ae-cb2f-4515-936c-2c794d3b1def",
   "metadata": {},
   "outputs": [],
   "source": []
  }
 ],
 "metadata": {
  "kernelspec": {
   "display_name": "PySpark",
   "language": "python",
   "name": "pysparkkernel"
  },
  "language_info": {
   "codemirror_mode": {
    "name": "python",
    "version": 3
   },
   "file_extension": ".py",
   "mimetype": "text/x-python",
   "name": "pyspark",
   "pygments_lexer": "python3"
  }
 },
 "nbformat": 4,
 "nbformat_minor": 5
}
